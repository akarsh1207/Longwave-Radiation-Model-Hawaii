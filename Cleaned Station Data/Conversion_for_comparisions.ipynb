{
 "cells": [
  {
   "cell_type": "code",
   "execution_count": 2,
   "metadata": {},
   "outputs": [],
   "source": [
    "import pandas as pd\n",
    "import numpy as np"
   ]
  },
  {
   "cell_type": "markdown",
   "metadata": {},
   "source": [
    "# Reformat Dataframe to compare models"
   ]
  },
  {
   "cell_type": "code",
   "execution_count": 31,
   "metadata": {},
   "outputs": [],
   "source": [
    "df = pd.read_excel('031HI_final.xlsx')"
   ]
  },
  {
   "cell_type": "code",
   "execution_count": 32,
   "metadata": {},
   "outputs": [],
   "source": [
    "df = df.rename(columns={'temp': 't_m'})\n",
    "df = df.drop(columns=['ghi_m'])\n",
    "df = df.rename(columns={'GHI': 'ghi_m'})\n",
    "df = df.rename(columns={'Clearsky GHI': 'ghi_c'})\n",
    "df = df.rename(columns={'dlw': 'dlw_m'})"
   ]
  },
  {
   "cell_type": "code",
   "execution_count": 33,
   "metadata": {},
   "outputs": [],
   "source": [
    "df = df.drop(columns=['site_elev'])\n",
    "df = df.drop(columns=['Clearsky DHI'])\n",
    "df = df.drop(columns=['Clearsky DNI'])\n",
    "df = df.drop(columns=['DHI']) \n",
    "df = df.drop(columns=['DNI'])\n",
    "df = df.drop(columns=['Solar Zenith Angle'])"
   ]
  },
  {
   "cell_type": "code",
   "execution_count": 34,
   "metadata": {},
   "outputs": [],
   "source": [
    "df.to_excel('031HI_comparision.xlsx', index=False)"
   ]
  }
 ],
 "metadata": {
  "kernelspec": {
   "display_name": "Python 3",
   "language": "python",
   "name": "python3"
  },
  "language_info": {
   "codemirror_mode": {
    "name": "ipython",
    "version": 3
   },
   "file_extension": ".py",
   "mimetype": "text/x-python",
   "name": "python",
   "nbconvert_exporter": "python",
   "pygments_lexer": "ipython3",
   "version": "3.9.6"
  }
 },
 "nbformat": 4,
 "nbformat_minor": 2
}
